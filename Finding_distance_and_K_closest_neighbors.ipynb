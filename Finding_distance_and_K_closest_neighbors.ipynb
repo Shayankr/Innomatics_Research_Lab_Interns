{
 "cells": [
  {
   "cell_type": "markdown",
   "metadata": {},
   "source": [
    "#### Question: Randomly generate a matrix of shape (1Million, 2) and perform below mentioned operations:"
   ]
  },
  {
   "cell_type": "markdown",
   "metadata": {},
   "source": [
    "##### a. Find the distances between each 2-Dimensional data point from the centroid (i.e. mean) of the given dataset. Append the newly calculated distances as new column with the given dataset."
   ]
  },
  {
   "cell_type": "markdown",
   "metadata": {},
   "source": [
    "##### b. Given any data point, generate 3 closest neighbors from it."
   ]
  },
  {
   "cell_type": "code",
   "execution_count": 1,
   "metadata": {},
   "outputs": [],
   "source": [
    "# import Numpy, matplotlib package for numerical calculation\n",
    "import numpy as np\n",
    "import matplotlib.pyplot as plt\n",
    "%matplotlib inline"
   ]
  },
  {
   "cell_type": "code",
   "execution_count": 2,
   "metadata": {},
   "outputs": [
    {
     "data": {
      "text/plain": [
       "(1000000, 2)"
      ]
     },
     "execution_count": 2,
     "metadata": {},
     "output_type": "execute_result"
    }
   ],
   "source": [
    "# Create a matrix of order (1M,2)\n",
    "arr = np.random.rand(1000000,2)\n",
    "arr.shape"
   ]
  },
  {
   "cell_type": "code",
   "execution_count": 3,
   "metadata": {},
   "outputs": [
    {
     "data": {
      "image/png": "[encoded data removed]",
      "text/plain": [
       "<Figure size 1080x576 with 1 Axes>"
      ]
     },
     "metadata": {
      "needs_background": "light"
     },
     "output_type": "display_data"
    }
   ],
   "source": [
    "# plotting some numbers(200)\n",
    "fig = plt.figure(figsize=(15,8))\n",
    "plt.scatter(arr[:200,0],arr[:200,1])\n",
    "plt.show()"
   ]
  },
  {
   "cell_type": "markdown",
   "metadata": {},
   "source": [
    "Steps to be follow:"
   ]
  },
  {
   "cell_type": "raw",
   "metadata": {},
   "source": [
    "Part 1 - Randomly generate a matrix \n",
    "\n",
    "Part 2 - Shape 1M * 2\n",
    "\n",
    "Part 3 - Calculate the centroid\n",
    "\n",
    "Part 4 - Find the eucledian distance between each datapoint and the centroid\n",
    "\n",
    "Part 5 - Append the distance column with the given dataset"
   ]
  },
  {
   "cell_type": "code",
   "execution_count": 4,
   "metadata": {},
   "outputs": [
    {
     "data": {
      "text/plain": [
       "array([0.49990168, 0.50025046])"
      ]
     },
     "execution_count": 4,
     "metadata": {},
     "output_type": "execute_result"
    }
   ],
   "source": [
    "#The centroid of al the points\n",
    "centroid = np.mean(arr,axis=0)\n",
    "centroid"
   ]
  },
  {
   "cell_type": "markdown",
   "metadata": {},
   "source": [
    "Find euclidean distance between points"
   ]
  },
  {
   "cell_type": "code",
   "execution_count": 5,
   "metadata": {},
   "outputs": [
    {
     "name": "stdout",
     "output_type": "stream",
     "text": [
      "Wall time: 78.2 ms\n"
     ]
    },
    {
     "data": {
      "text/plain": [
       "array([0.23052036, 0.13906984, 0.29550005, ..., 0.04912157, 0.39616303,\n",
       "       0.4482014 ])"
      ]
     },
     "execution_count": 5,
     "metadata": {},
     "output_type": "execute_result"
    }
   ],
   "source": [
    "\n",
    "%%time\n",
    "dist = np.sqrt(np.sum((arr-centroid)**2 , axis=1))\n",
    "dist"
   ]
  },
  {
   "cell_type": "code",
   "execution_count": 6,
   "metadata": {},
   "outputs": [
    {
     "data": {
      "text/plain": [
       "(1000000,)"
      ]
     },
     "execution_count": 6,
     "metadata": {},
     "output_type": "execute_result"
    }
   ],
   "source": [
    "#checking the shape of dist array\n",
    "dist.shape"
   ]
  },
  {
   "cell_type": "code",
   "execution_count": 7,
   "metadata": {},
   "outputs": [
    {
     "data": {
      "text/plain": [
       "array([[0.23052036],\n",
       "       [0.13906984],\n",
       "       [0.29550005],\n",
       "       ...,\n",
       "       [0.04912157],\n",
       "       [0.39616303],\n",
       "       [0.4482014 ]])"
      ]
     },
     "execution_count": 7,
     "metadata": {},
     "output_type": "execute_result"
    }
   ],
   "source": [
    "#reshape the data to do further calculations\n",
    "dist = dist.reshape(-1,1)\n",
    "dist"
   ]
  },
  {
   "cell_type": "code",
   "execution_count": 8,
   "metadata": {},
   "outputs": [
    {
     "data": {
      "text/plain": [
       "(1000000, 1)"
      ]
     },
     "execution_count": 8,
     "metadata": {},
     "output_type": "execute_result"
    }
   ],
   "source": [
    "# Now, the shape of \"dist\" array is changed.\n",
    "dist.shape"
   ]
  },
  {
   "cell_type": "code",
   "execution_count": 9,
   "metadata": {},
   "outputs": [
    {
     "data": {
      "text/plain": [
       "array([[0.56575455, 0.72116455, 0.23052036],\n",
       "       [0.4186299 , 0.61310133, 0.13906984],\n",
       "       [0.57759078, 0.78535515, 0.29550005],\n",
       "       ...,\n",
       "       [0.52831213, 0.46017834, 0.04912157],\n",
       "       [0.36637144, 0.12726946, 0.39616303],\n",
       "       [0.94157214, 0.57648496, 0.4482014 ]])"
      ]
     },
     "execution_count": 9,
     "metadata": {},
     "output_type": "execute_result"
    }
   ],
   "source": [
    "# Adding(concatenate) the newly calulated distance 'dist' array as the new column to the existing array\n",
    "arr_dist = np.hstack((arr,dist))\n",
    "arr_dist"
   ]
  },
  {
   "cell_type": "markdown",
   "metadata": {},
   "source": [
    "###### {b}Find K-nearest neighbours"
   ]
  },
  {
   "cell_type": "code",
   "execution_count": 10,
   "metadata": {},
   "outputs": [],
   "source": [
    "def K_nearest_neighbours(array,point,k):\n",
    "    #centroid = np.mean(array,axis=0)\n",
    "    dist = np.sum((array-point)**2,  axis=1)\n",
    "    dist = dist.reshape(-1,1)\n",
    "    arr_dist = np.hstack((array,dist))\n",
    "    arr_ = arr_dist[arr_dist[:,2].argsort()]\n",
    "    print(arr_[:k])\n",
    "    print(\"The given point is {} \".format(point))\n",
    "    print(\"The nearest k points are: \\n {} \".format(arr_[:k,:2]))\n",
    "    \n",
    "    fig = plt.figure(figsize=(12,7))\n",
    "    #plt.scatter(array[:,0], array[:,1])\n",
    "    plt.plot(point[0],point[1],'rD')\n",
    "    plt.plot(arr_[:k,0], arr_[:k,1], 'b*')\n",
    "    plt.show()"
   ]
  },
  {
   "cell_type": "code",
   "execution_count": 11,
   "metadata": {},
   "outputs": [
    {
     "data": {
      "text/plain": [
       "(1000000, 2)"
      ]
     },
     "execution_count": 11,
     "metadata": {},
     "output_type": "execute_result"
    }
   ],
   "source": [
    "# Create a matrix of order (1M,2)\n",
    "array = np.random.randint(10000, size=(1000000,2))\n",
    "arr.shape"
   ]
  },
  {
   "cell_type": "raw",
   "metadata": {},
   "source": [
    "np.random.seed(1)\n",
    "array=np.random.randint(100000, size=(1000000,2))\n",
    "array"
   ]
  },
  {
   "cell_type": "code",
   "execution_count": 12,
   "metadata": {},
   "outputs": [
    {
     "data": {
      "text/plain": [
       "(0, 9999)"
      ]
     },
     "execution_count": 12,
     "metadata": {},
     "output_type": "execute_result"
    }
   ],
   "source": [
    "array[:,0].min(), array[:,0].max()"
   ]
  },
  {
   "cell_type": "code",
   "execution_count": 13,
   "metadata": {},
   "outputs": [
    {
     "data": {
      "text/plain": [
       "(0, 9999)"
      ]
     },
     "execution_count": 13,
     "metadata": {},
     "output_type": "execute_result"
    }
   ],
   "source": [
    "array[:,1].min(), array[:,1].max()"
   ]
  },
  {
   "cell_type": "code",
   "execution_count": 14,
   "metadata": {},
   "outputs": [
    {
     "name": "stdout",
     "output_type": "stream",
     "text": [
      "Enter how many nearest points you want to find: 3\n",
      "Enter the co-ordinate of a random point100 200\n"
     ]
    }
   ],
   "source": [
    "k = int(input(\"Enter how many nearest points you want to find: \"))\n",
    "point = np.array(list(map(float, input(\"Enter the co-ordinate of a random point\").split())))"
   ]
  },
  {
   "cell_type": "code",
   "execution_count": 15,
   "metadata": {},
   "outputs": [
    {
     "name": "stdout",
     "output_type": "stream",
     "text": [
      "[[ 98. 204.  20.]\n",
      " [100. 193.  49.]\n",
      " [106. 192. 100.]]\n",
      "The given point is [100. 200.] \n",
      "The nearest k points are: \n",
      " [[ 98. 204.]\n",
      " [100. 193.]\n",
      " [106. 192.]] \n"
     ]
    },
    {
     "data": {
      "image/png": "[encoded data removed]",
      "text/plain": [
       "<Figure size 864x504 with 1 Axes>"
      ]
     },
     "metadata": {
      "needs_background": "light"
     },
     "output_type": "display_data"
    }
   ],
   "source": [
    "K_nearest_neighbours(array,point,k)"
   ]
  },
  {
   "cell_type": "markdown",
   "metadata": {},
   "source": [
    "##### END"
   ]
  },
  {
   "cell_type": "code",
   "execution_count": null,
   "metadata": {},
   "outputs": [],
   "source": []
  }
 ],
 "metadata": {
  "kernelspec": {
   "display_name": "Python 3",
   "language": "python",
   "name": "python3"
  },
  "language_info": {
   "codemirror_mode": {
    "name": "ipython",
    "version": 3
   },
   "file_extension": ".py",
   "mimetype": "text/x-python",
   "name": "python",
   "nbconvert_exporter": "python",
   "pygments_lexer": "ipython3",
   "version": "3.8.3"
  }
 },
 "nbformat": 4,
 "nbformat_minor": 4
}
